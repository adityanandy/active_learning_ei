{
 "cells": [
  {
   "cell_type": "code",
   "execution_count": 3,
   "metadata": {
    "collapsed": true
   },
   "outputs": [],
   "source": [
    "import time\n",
    "import numpy as np\n",
    "import pandas as pd\n",
    "from perato_utils import is_pareto\n",
    "from gpr import process_generation_2DEI\n",
    "from ei import getEiVec2D_aug, getPiVec2D_aug\n",
    "from plot_utils import *"
   ]
  },
  {
   "cell_type": "code",
   "execution_count": 4,
   "metadata": {},
   "outputs": [
    {
     "data": {
      "text/html": [
       "        <script type=\"text/javascript\">\n",
       "        window.PlotlyConfig = {MathJaxConfig: 'local'};\n",
       "        if (window.MathJax) {MathJax.Hub.Config({SVG: {font: \"STIX-Web\"}});}\n",
       "        if (typeof require !== 'undefined') {\n",
       "        require.undef(\"plotly\");\n",
       "        requirejs.config({\n",
       "            paths: {\n",
       "                'plotly': ['https://cdn.plot.ly/plotly-latest.min']\n",
       "            }\n",
       "        });\n",
       "        require(['plotly'], function(Plotly) {\n",
       "            window._Plotly = Plotly;\n",
       "        });\n",
       "        }\n",
       "        </script>\n",
       "        "
      ]
     },
     "metadata": {},
     "output_type": "display_data"
    }
   ],
   "source": [
    "import sys\n",
    "import sklearn.preprocessing\n",
    "from scipy import stats\n",
    "import pandas as pd\n",
    "import colorlover as cl\n",
    "import numpy as np\n",
    "from _plotly_future_ import v4_subplots\n",
    "import plotly.graph_objs as go\n",
    "import plotly.io as pio\n",
    "import plotly\n",
    "from plotly.offline import download_plotlyjs, init_notebook_mode, plot, iplot\n",
    "plotly.io.orca.config.executable = '/anaconda2/envs/pytorch/bin/orca'\n",
    "init_notebook_mode(connected=True)\n",
    "\n",
    "glob_layout = go.Layout(\n",
    "    font=dict(family='Helvetica', size=24, color='black'),\n",
    "    margin=dict(l=100, r=10, t=10, b=100),\n",
    "    xaxis=dict(showgrid=False,  zeroline=False, ticks=\"inside\", showline=True,\n",
    "               tickwidth=3, linewidth=3, ticklen=10,\n",
    "               mirror=\"allticks\", color=\"black\"),\n",
    "    yaxis=dict(showgrid=False,  zeroline=False, ticks=\"inside\", showline=True,\n",
    "               tickwidth=3, linewidth=3, ticklen=10,\n",
    "               mirror=\"allticks\", color=\"black\"),\n",
    "    legend_orientation=\"v\",\n",
    ")"
   ]
  },
  {
   "cell_type": "code",
   "execution_count": 5,
   "metadata": {
    "collapsed": true
   },
   "outputs": [],
   "source": [
    "def fun1(x):\n",
    "    return (1/((1-0.15)**2))*((x-0.10)**2 )\n",
    "\n",
    "def fun2(x):\n",
    "#     return (1/((0.75)**2))*((x-0.75)**2 )\n",
    "    return np.exp((-0.3*np.sin(3/2*(np.pi*x/5))**2 + x))/26.6222"
   ]
  },
  {
   "cell_type": "code",
   "execution_count": 6,
   "metadata": {
    "collapsed": true
   },
   "outputs": [],
   "source": [
    "def fun1(x):\n",
    "    return (1/((1-0.15)**2))*((x-0.10)**2 )\n",
    "\n",
    "def fun2(x):\n",
    "    return (15*np.sin(3/2*(np.pi*x/5))**2 + x)/26.6222"
   ]
  },
  {
   "cell_type": "code",
   "execution_count": 7,
   "metadata": {
    "collapsed": true
   },
   "outputs": [],
   "source": [
    "x_det = np.linspace(0, 1, 50)\n",
    "x_det_mean, x_det_std = np.mean(x_det), np.std(x_det)\n",
    "x_det = (x_det- x_det_mean)/x_det_std"
   ]
  },
  {
   "cell_type": "code",
   "execution_count": 8,
   "metadata": {
    "collapsed": true
   },
   "outputs": [],
   "source": [
    "y1 = fun1(x_det*x_det_std + x_det_mean)\n",
    "y2 = fun2(x_det*x_det_std + x_det_mean)"
   ]
  },
  {
   "cell_type": "code",
   "execution_count": 9,
   "metadata": {
    "collapsed": true
   },
   "outputs": [],
   "source": [
    "res = {\"x\": x_det, \"y1\": y1, \"y2\": y2}\n",
    "df = pd.DataFrame(data=res)"
   ]
  },
  {
   "cell_type": "code",
   "execution_count": 10,
   "metadata": {
    "collapsed": true
   },
   "outputs": [],
   "source": [
    "pareto_inds, pareto_points = is_pareto(points=df[['y1', 'y2']].values)"
   ]
  },
  {
   "cell_type": "code",
   "execution_count": 11,
   "metadata": {},
   "outputs": [
    {
     "data": {
      "application/vnd.plotly.v1+json": {
       "config": {
        "linkText": "Export to plot.ly",
        "plotlyServerURL": "https://plot.ly",
        "showLink": false
       },
       "data": [
        {
         "marker": {
          "color": "black",
          "size": 5
         },
         "mode": "markers",
         "opacity": 0.5,
         "type": "scatter",
         "uid": "da7f55d3-798c-4d30-8398-8959b5e4531a",
         "x": [
          0.013840830449826994,
          0.008767972975504724,
          0.004848037654437528,
          0.002081024486625382,
          0.00046693347206830046,
          5.764610766275279e-06,
          0.0006975179027193123,
          0.002542193347927398,
          0.0055397909463905624,
          0.009690310698108783,
          0.014993752603082066,
          0.021450116661310373,
          0.029059402872793773,
          0.037821611237532214,
          0.04773674175552573,
          0.05880479442677428,
          0.07102576925127793,
          0.08439966622903666,
          0.09892648536005037,
          0.1146062266443192,
          0.131438890081843,
          0.14942447567262196,
          0.16856298341665596,
          0.18885441331394504,
          0.2102987653644892,
          0.23289603956828836,
          0.25664623592534247,
          0.28154935443565177,
          0.3076053950992162,
          0.3348143579160356,
          0.36317624288610995,
          0.39269105000943955,
          0.4233587792860241,
          0.4551794307158638,
          0.4881530042989585,
          0.5222795000353082,
          0.557558917924913,
          0.593991257967773,
          0.631576520163888,
          0.6703147045132578,
          0.7102058110158829,
          0.7512498396717631,
          0.7934467904808983,
          0.8367966634432886,
          0.8812994585589337,
          0.926955175827834,
          0.9737638152499896,
          1.0217253768254002,
          1.0708398605540657,
          1.1211072664359862
         ],
         "y": [
          0,
          0.0009750065438731138,
          0.0023665489815454027,
          0.004173702599117783,
          0.0063949277271058225,
          0.00902807201859878,
          0.01207037363396156,
          0.015518465327367491,
          0.019368379429115373,
          0.023615553716358394,
          0.02825483816355893,
          0.0332805025626804,
          0.0386862450018415,
          0.04446520118988692,
          0.05060995461307818,
          0.057112547508875545,
          0.06396449264057466,
          0.07115678585537488,
          0.07867991940729786,
          0.0865238960252445,
          0.0946782437053724,
          0.10313203120590872,
          0.11187388422146975,
          0.1208920022129563,
          0.13017417586812224,
          0.1397078051669802,
          0.14947991802531563,
          0.1594771894887218,
          0.16968596144875633,
          0.18009226285204688,
          0.19068183037244216,
          0.20144012951562287,
          0.21235237612494387,
          0.22340355825668698,
          0.2345784583923572,
          0.24586167595515598,
          0.2572376500973156,
          0.2686906827245754,
          0.2802049617237363,
          0.2917645843589197,
          0.3033535808019184,
          0.3149559377618166,
          0.32655562217892287,
          0.3381366049479506,
          0.3496828846353502,
          0.36117851115569405,
          0.37260760937208726,
          0.38395440258568025,
          0.39520323587952816,
          0.4063385992822571
         ]
        },
        {
         "marker": {
          "color": "red",
          "size": 5
         },
         "mode": "markers",
         "opacity": 1,
         "type": "scatter",
         "uid": "339bd4a8-d3d3-49bb-be86-3a8459931c37",
         "x": [
          5.764610766275279e-06,
          0.00046693347206830046,
          0.002081024486625382,
          0.004848037654437528,
          0.008767972975504724,
          0.013840830449826994
         ],
         "y": [
          0.00902807201859878,
          0.0063949277271058225,
          0.004173702599117783,
          0.0023665489815454027,
          0.0009750065438731138,
          0
         ]
        },
        {
         "line": {
          "color": "red",
          "width": 2
         },
         "mode": "lines",
         "opacity": 1,
         "type": "scatter",
         "uid": "cda950bb-597c-49c6-9972-1ed1c25e7731",
         "x": [
          5.764610766275279e-06,
          0.00046693347206830046,
          0.00046693347206830046,
          0.002081024486625382,
          0.002081024486625382,
          0.004848037654437528,
          0.004848037654437528,
          0.008767972975504724,
          0.008767972975504724,
          0.013840830449826994,
          0.013840830449826994
         ],
         "y": [
          0.00902807201859878,
          0.00902807201859878,
          0.0063949277271058225,
          0.0063949277271058225,
          0.004173702599117783,
          0.004173702599117783,
          0.0023665489815454027,
          0.0023665489815454027,
          0.0009750065438731138,
          0.0009750065438731138,
          0
         ]
        }
       ],
       "layout": {
        "font": {
         "color": "black",
         "family": "Helvetica",
         "size": 24
        },
        "height": 500,
        "legend": {
         "bgcolor": "rgba(0,0,0,0)",
         "orientation": "v",
         "x": 0,
         "y": 1
        },
        "margin": {
         "b": 100,
         "l": 100,
         "r": 10,
         "t": 10
        },
        "showlegend": false,
        "width": 500,
        "xaxis": {
         "color": "black",
         "linewidth": 3,
         "mirror": "allticks",
         "showgrid": false,
         "showline": true,
         "ticklen": 10,
         "ticks": "inside",
         "tickwidth": 3,
         "title": {
          "text": "y1"
         },
         "zeroline": false
        },
        "yaxis": {
         "color": "black",
         "linewidth": 3,
         "mirror": "allticks",
         "showgrid": false,
         "showline": true,
         "ticklen": 10,
         "ticks": "inside",
         "tickwidth": 3,
         "title": {
          "text": "y2"
         },
         "zeroline": false
        }
       }
      },
      "text/html": [
       "<div>\n",
       "        \n",
       "        \n",
       "            <div id=\"732dd805-ccf3-4a5d-a543-07ca76b026b1\" class=\"plotly-graph-div\" style=\"height:500px; width:500px;\"></div>\n",
       "            <script type=\"text/javascript\">\n",
       "                require([\"plotly\"], function(Plotly) {\n",
       "                    window.PLOTLYENV=window.PLOTLYENV || {};\n",
       "                    window.PLOTLYENV.BASE_URL='https://plot.ly';\n",
       "                    \n",
       "                if (document.getElementById(\"732dd805-ccf3-4a5d-a543-07ca76b026b1\")) {\n",
       "                    Plotly.newPlot(\n",
       "                        '732dd805-ccf3-4a5d-a543-07ca76b026b1',\n",
       "                        [{\"marker\": {\"color\": \"black\", \"size\": 5}, \"mode\": \"markers\", \"opacity\": 0.5, \"type\": \"scatter\", \"uid\": \"da7f55d3-798c-4d30-8398-8959b5e4531a\", \"x\": [0.013840830449826994, 0.008767972975504724, 0.004848037654437528, 0.002081024486625382, 0.00046693347206830046, 5.764610766275279e-06, 0.0006975179027193123, 0.002542193347927398, 0.0055397909463905624, 0.009690310698108783, 0.014993752603082066, 0.021450116661310373, 0.029059402872793773, 0.037821611237532214, 0.04773674175552573, 0.05880479442677428, 0.07102576925127793, 0.08439966622903666, 0.09892648536005037, 0.1146062266443192, 0.131438890081843, 0.14942447567262196, 0.16856298341665596, 0.18885441331394504, 0.2102987653644892, 0.23289603956828836, 0.25664623592534247, 0.28154935443565177, 0.3076053950992162, 0.3348143579160356, 0.36317624288610995, 0.39269105000943955, 0.4233587792860241, 0.4551794307158638, 0.4881530042989585, 0.5222795000353082, 0.557558917924913, 0.593991257967773, 0.631576520163888, 0.6703147045132578, 0.7102058110158829, 0.7512498396717631, 0.7934467904808983, 0.8367966634432886, 0.8812994585589337, 0.926955175827834, 0.9737638152499896, 1.0217253768254002, 1.0708398605540657, 1.1211072664359862], \"y\": [0.0, 0.0009750065438731138, 0.0023665489815454027, 0.004173702599117783, 0.0063949277271058225, 0.00902807201859878, 0.01207037363396156, 0.015518465327367491, 0.019368379429115373, 0.023615553716358394, 0.02825483816355893, 0.0332805025626804, 0.0386862450018415, 0.04446520118988692, 0.05060995461307818, 0.057112547508875545, 0.06396449264057466, 0.07115678585537488, 0.07867991940729786, 0.0865238960252445, 0.0946782437053724, 0.10313203120590872, 0.11187388422146975, 0.1208920022129563, 0.13017417586812224, 0.1397078051669802, 0.14947991802531563, 0.1594771894887218, 0.16968596144875633, 0.18009226285204688, 0.19068183037244216, 0.20144012951562287, 0.21235237612494387, 0.22340355825668698, 0.2345784583923572, 0.24586167595515598, 0.2572376500973156, 0.2686906827245754, 0.2802049617237363, 0.2917645843589197, 0.3033535808019184, 0.3149559377618166, 0.32655562217892287, 0.3381366049479506, 0.3496828846353502, 0.36117851115569405, 0.37260760937208726, 0.38395440258568025, 0.39520323587952816, 0.4063385992822571]}, {\"marker\": {\"color\": \"red\", \"size\": 5}, \"mode\": \"markers\", \"opacity\": 1, \"type\": \"scatter\", \"uid\": \"339bd4a8-d3d3-49bb-be86-3a8459931c37\", \"x\": [5.764610766275279e-06, 0.00046693347206830046, 0.002081024486625382, 0.004848037654437528, 0.008767972975504724, 0.013840830449826994], \"y\": [0.00902807201859878, 0.0063949277271058225, 0.004173702599117783, 0.0023665489815454027, 0.0009750065438731138, 0.0]}, {\"line\": {\"color\": \"red\", \"width\": 2}, \"mode\": \"lines\", \"opacity\": 1, \"type\": \"scatter\", \"uid\": \"cda950bb-597c-49c6-9972-1ed1c25e7731\", \"x\": [5.764610766275279e-06, 0.00046693347206830046, 0.00046693347206830046, 0.002081024486625382, 0.002081024486625382, 0.004848037654437528, 0.004848037654437528, 0.008767972975504724, 0.008767972975504724, 0.013840830449826994, 0.013840830449826994], \"y\": [0.00902807201859878, 0.00902807201859878, 0.0063949277271058225, 0.0063949277271058225, 0.004173702599117783, 0.004173702599117783, 0.0023665489815454027, 0.0023665489815454027, 0.0009750065438731138, 0.0009750065438731138, 0.0]}],\n",
       "                        {\"font\": {\"color\": \"black\", \"family\": \"Helvetica\", \"size\": 24}, \"height\": 500, \"legend\": {\"bgcolor\": \"rgba(0,0,0,0)\", \"orientation\": \"v\", \"x\": 0, \"y\": 1.0}, \"margin\": {\"b\": 100, \"l\": 100, \"r\": 10, \"t\": 10}, \"showlegend\": false, \"width\": 500, \"xaxis\": {\"color\": \"black\", \"linewidth\": 3, \"mirror\": \"allticks\", \"showgrid\": false, \"showline\": true, \"ticklen\": 10, \"ticks\": \"inside\", \"tickwidth\": 3, \"title\": {\"text\": \"y1\"}, \"zeroline\": false}, \"yaxis\": {\"color\": \"black\", \"linewidth\": 3, \"mirror\": \"allticks\", \"showgrid\": false, \"showline\": true, \"ticklen\": 10, \"ticks\": \"inside\", \"tickwidth\": 3, \"title\": {\"text\": \"y2\"}, \"zeroline\": false}},\n",
       "                        {\"showLink\": false, \"linkText\": \"Export to plot.ly\", \"plotlyServerURL\": \"https://plot.ly\", \"responsive\": true}\n",
       "                    ).then(function(){\n",
       "                            \n",
       "var gd = document.getElementById('732dd805-ccf3-4a5d-a543-07ca76b026b1');\n",
       "var x = new MutationObserver(function (mutations, observer) {{\n",
       "        var display = window.getComputedStyle(gd).display;\n",
       "        if (!display || display === 'none') {{\n",
       "            console.log([gd, 'removed!']);\n",
       "            Plotly.purge(gd);\n",
       "            observer.disconnect();\n",
       "        }}\n",
       "}});\n",
       "\n",
       "// Listen for the removal of the full notebook cells\n",
       "var notebookContainer = gd.closest('#notebook-container');\n",
       "if (notebookContainer) {{\n",
       "    x.observe(notebookContainer, {childList: true});\n",
       "}}\n",
       "\n",
       "// Listen for the clearing of the current output cell\n",
       "var outputEl = gd.closest('.output');\n",
       "if (outputEl) {{\n",
       "    x.observe(outputEl, {childList: true});\n",
       "}}\n",
       "\n",
       "                        })\n",
       "                };\n",
       "                });\n",
       "            </script>\n",
       "        </div>"
      ]
     },
     "metadata": {},
     "output_type": "display_data"
    }
   ],
   "source": [
    "plot_pareto_front(df, pareto_points, figname='2DEI_example/global_pareto_front.pdf')"
   ]
  },
  {
   "cell_type": "code",
   "execution_count": 12,
   "metadata": {
    "collapsed": true
   },
   "outputs": [],
   "source": [
    "start_n = 2\n",
    "initial_points = df.sample(n=start_n, random_state=0)\n",
    "true_points = initial_points\n",
    "## loop control\n",
    "known_points = initial_points\n",
    "true_eval = True\n",
    "i = 1\n",
    "tb_thres, tb_count = 0, 0"
   ]
  },
  {
   "cell_type": "code",
   "execution_count": null,
   "metadata": {
    "collapsed": true
   },
   "outputs": [],
   "source": [
    "while tb_count < 10:\n",
    "    pareto_inds_known, pareto_points_known = is_pareto(points=known_points[['y1', 'y2']].values)\n",
    "    df, _, _ = process_generation_2DEI(df_known=known_points, df=df, fnames=['x'])\n",
    "    df['known'] = [True if idx in list(known_points.index) else False for idx, row in df.iterrows()]\n",
    "    plot_model(df, known_points, \n",
    "              figname='2DEI_example/model_pred_gen-%d.pdf'%tb_count,\n",
    "              show=False)\n",
    "    time.sleep(1)\n",
    "    df = getEiVec2D_aug(df, approx_pareto_list=pareto_points_known)\n",
    "    new_x = df.iloc[df['pi'].idxmax( axis=0, skipna=True,)]\n",
    "    plot_known_and_new(df, known_points, new_x,\n",
    "                      figname='2DEI_example/points_explored_gen-%d.pdf'%tb_count,\n",
    "                      show=False)\n",
    "    time.sleep(1)\n",
    "    tb_count += 1\n",
    "    known_points = known_points.append(new_x[known_points.columns])"
   ]
  },
  {
   "cell_type": "code",
   "execution_count": null,
   "metadata": {
    "collapsed": true
   },
   "outputs": [],
   "source": []
  }
 ],
 "metadata": {
  "kernelspec": {
   "display_name": "Python [conda env:mols_chenru]",
   "language": "python",
   "name": "conda-env-mols_chenru-py"
  },
  "toc": {
   "base_numbering": 1,
   "nav_menu": {},
   "number_sections": true,
   "sideBar": true,
   "skip_h1_title": false,
   "title_cell": "Table of Contents",
   "title_sidebar": "Contents",
   "toc_cell": false,
   "toc_position": {},
   "toc_section_display": true,
   "toc_window_display": false
  }
 },
 "nbformat": 4,
 "nbformat_minor": 2
}
