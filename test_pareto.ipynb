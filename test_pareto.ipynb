{
 "cells": [
  {
   "cell_type": "code",
   "execution_count": 11,
   "metadata": {},
   "outputs": [],
   "source": [
    "from perato_utils import *\n",
    "import numpy as np"
   ]
  },
  {
   "cell_type": "code",
   "execution_count": 12,
   "metadata": {},
   "outputs": [
    {
     "data": {
      "text/html": [
       "        <script type=\"text/javascript\">\n",
       "        window.PlotlyConfig = {MathJaxConfig: 'local'};\n",
       "        if (window.MathJax) {MathJax.Hub.Config({SVG: {font: \"STIX-Web\"}});}\n",
       "        if (typeof require !== 'undefined') {\n",
       "        require.undef(\"plotly\");\n",
       "        requirejs.config({\n",
       "            paths: {\n",
       "                'plotly': ['https://cdn.plot.ly/plotly-latest.min']\n",
       "            }\n",
       "        });\n",
       "        require(['plotly'], function(Plotly) {\n",
       "            window._Plotly = Plotly;\n",
       "        });\n",
       "        }\n",
       "        </script>\n",
       "        "
      ]
     },
     "metadata": {},
     "output_type": "display_data"
    }
   ],
   "source": [
    "import sys\n",
    "import sklearn.preprocessing\n",
    "from scipy import stats\n",
    "import pandas as pd\n",
    "import colorlover as cl\n",
    "import umap\n",
    "import numpy as np\n",
    "from _plotly_future_ import v4_subplots\n",
    "import plotly.graph_objs as go\n",
    "import plotly.io as pio\n",
    "import plotly\n",
    "from plotly.offline import download_plotlyjs, init_notebook_mode, plot, iplot\n",
    "plotly.io.orca.config.executable = '/anaconda2/envs/pytorch/bin/orca'\n",
    "init_notebook_mode(connected=True)\n",
    "\n",
    "glob_layout = go.Layout(\n",
    "    font=dict(family='Helvetica', size=24, color='black'),\n",
    "    margin=dict(l=100, r=10, t=10, b=100),\n",
    "    xaxis=dict(showgrid=False,  zeroline=False, ticks=\"inside\", showline=True,\n",
    "               tickwidth=3, linewidth=3, ticklen=10,\n",
    "               mirror=\"allticks\", color=\"black\"),\n",
    "    yaxis=dict(showgrid=False,  zeroline=False, ticks=\"inside\", showline=True,\n",
    "               tickwidth=3, linewidth=3, ticklen=10,\n",
    "               mirror=\"allticks\", color=\"black\"),\n",
    "    legend_orientation=\"v\",\n",
    ")"
   ]
  },
  {
   "cell_type": "code",
   "execution_count": 13,
   "metadata": {},
   "outputs": [],
   "source": [
    "points = np.random.random(size=(20, 2))"
   ]
  },
  {
   "cell_type": "code",
   "execution_count": 14,
   "metadata": {},
   "outputs": [],
   "source": [
    "pareto_inds, pareto_points = is_pareto(points)"
   ]
  },
  {
   "cell_type": "code",
   "execution_count": 15,
   "metadata": {},
   "outputs": [
    {
     "data": {
      "text/plain": [
       "array([[0.0283569 , 0.99433571],\n",
       "       [0.07008694, 0.10886478],\n",
       "       [0.34978764, 0.05821972],\n",
       "       [0.53694469, 0.03724723],\n",
       "       [0.75592679, 0.01049278]])"
      ]
     },
     "execution_count": 15,
     "metadata": {},
     "output_type": "execute_result"
    }
   ],
   "source": [
    "pareto_points "
   ]
  },
  {
   "cell_type": "code",
   "execution_count": 16,
   "metadata": {},
   "outputs": [
    {
     "data": {
      "text/plain": [
       "array([0, 1, 2, 3, 4])"
      ]
     },
     "execution_count": 16,
     "metadata": {},
     "output_type": "execute_result"
    }
   ],
   "source": [
    "pareto_points [:,0].argsort()"
   ]
  },
  {
   "cell_type": "code",
   "execution_count": 17,
   "metadata": {},
   "outputs": [
    {
     "data": {
      "application/vnd.plotly.v1+json": {
       "config": {
        "linkText": "Export to plot.ly",
        "plotlyServerURL": "https://plot.ly",
        "showLink": false
       },
       "data": [
        {
         "line": {
          "color": "black",
          "dash": "dash",
          "width": 2
         },
         "marker": {
          "color": "black",
          "size": 10
         },
         "mode": "markers",
         "opacity": 0.5,
         "type": "scatter",
         "uid": "5250fdda-f8a0-488c-b128-9cd1b128ec69",
         "x": [
          0.22592934173336854,
          0.13999150819325157,
          0.6777238050960195,
          0.874776081967609,
          0.8922989496201186,
          0.07008693581711478,
          0.34978763630714826,
          0.35248950451999195,
          0.8274592188283234,
          0.6125374574671337,
          0.8983405616878036,
          0.3112110284293781,
          0.5369446874768404,
          0.7559267913906688,
          0.442127253387538,
          0.2154264762909569,
          0.16801084231991037,
          0.2635694371331224,
          0.5292922173328869,
          0.028356898847299306
         ],
         "y": [
          0.9645935972445825,
          0.9886983091152056,
          0.7485256366996518,
          0.030947321161459596,
          0.4190867496680375,
          0.10886477517937909,
          0.058219720971154354,
          0.19382081451373379,
          0.3227070815585157,
          0.43832486103451695,
          0.8805871117614802,
          0.9922730257330294,
          0.03724722863511032,
          0.010492784089290552,
          0.36069370291475844,
          0.4821541506854855,
          0.30082595632888587,
          0.7941885697564528,
          0.7756953663192725,
          0.994335707499212
         ]
        },
        {
         "line": {
          "color": "black",
          "dash": "dash",
          "width": 2
         },
         "marker": {
          "color": "red",
          "size": 10
         },
         "mode": "markers",
         "opacity": 1,
         "type": "scatter",
         "uid": "5c8ab537-c25a-4290-bbd8-bc6ceaaaeb79",
         "x": [
          0.028356898847299306,
          0.07008693581711478,
          0.34978763630714826,
          0.5369446874768404,
          0.7559267913906688
         ],
         "y": [
          0.994335707499212,
          0.10886477517937909,
          0.058219720971154354,
          0.03724722863511032,
          0.010492784089290552
         ]
        }
       ],
       "layout": {
        "font": {
         "color": "black",
         "family": "Helvetica",
         "size": 24
        },
        "height": 500,
        "legend": {
         "bgcolor": "rgba(0,0,0,0)",
         "orientation": "v",
         "x": 0,
         "y": 1
        },
        "margin": {
         "b": 100,
         "l": 100,
         "r": 10,
         "t": 10
        },
        "showlegend": false,
        "width": 500,
        "xaxis": {
         "color": "black",
         "linewidth": 3,
         "mirror": "allticks",
         "showgrid": false,
         "showline": true,
         "ticklen": 10,
         "ticks": "inside",
         "tickwidth": 3,
         "title": {
          "text": "c-1"
         },
         "zeroline": false
        },
        "yaxis": {
         "color": "black",
         "linewidth": 3,
         "mirror": "allticks",
         "showgrid": false,
         "showline": true,
         "ticklen": 10,
         "ticks": "inside",
         "tickwidth": 3,
         "title": {
          "text": "c-2"
         },
         "zeroline": false
        }
       }
      },
      "text/html": [
       "<div>\n",
       "        \n",
       "        \n",
       "            <div id=\"8e5f2f16-0af4-4f83-95e2-60e832c3ec90\" class=\"plotly-graph-div\" style=\"height:500px; width:500px;\"></div>\n",
       "            <script type=\"text/javascript\">\n",
       "                require([\"plotly\"], function(Plotly) {\n",
       "                    window.PLOTLYENV=window.PLOTLYENV || {};\n",
       "                    window.PLOTLYENV.BASE_URL='https://plot.ly';\n",
       "                    \n",
       "                if (document.getElementById(\"8e5f2f16-0af4-4f83-95e2-60e832c3ec90\")) {\n",
       "                    Plotly.newPlot(\n",
       "                        '8e5f2f16-0af4-4f83-95e2-60e832c3ec90',\n",
       "                        [{\"line\": {\"color\": \"black\", \"dash\": \"dash\", \"width\": 2}, \"marker\": {\"color\": \"black\", \"size\": 10}, \"mode\": \"markers\", \"opacity\": 0.5, \"type\": \"scatter\", \"uid\": \"5250fdda-f8a0-488c-b128-9cd1b128ec69\", \"x\": [0.22592934173336854, 0.13999150819325157, 0.6777238050960195, 0.874776081967609, 0.8922989496201186, 0.07008693581711478, 0.34978763630714826, 0.35248950451999195, 0.8274592188283234, 0.6125374574671337, 0.8983405616878036, 0.3112110284293781, 0.5369446874768404, 0.7559267913906688, 0.442127253387538, 0.2154264762909569, 0.16801084231991037, 0.2635694371331224, 0.5292922173328869, 0.028356898847299306], \"y\": [0.9645935972445825, 0.9886983091152056, 0.7485256366996518, 0.030947321161459596, 0.4190867496680375, 0.10886477517937909, 0.058219720971154354, 0.19382081451373379, 0.3227070815585157, 0.43832486103451695, 0.8805871117614802, 0.9922730257330294, 0.03724722863511032, 0.010492784089290552, 0.36069370291475844, 0.4821541506854855, 0.30082595632888587, 0.7941885697564528, 0.7756953663192725, 0.994335707499212]}, {\"line\": {\"color\": \"black\", \"dash\": \"dash\", \"width\": 2}, \"marker\": {\"color\": \"red\", \"size\": 10}, \"mode\": \"markers\", \"opacity\": 1, \"type\": \"scatter\", \"uid\": \"5c8ab537-c25a-4290-bbd8-bc6ceaaaeb79\", \"x\": [0.028356898847299306, 0.07008693581711478, 0.34978763630714826, 0.5369446874768404, 0.7559267913906688], \"y\": [0.994335707499212, 0.10886477517937909, 0.058219720971154354, 0.03724722863511032, 0.010492784089290552]}],\n",
       "                        {\"font\": {\"color\": \"black\", \"family\": \"Helvetica\", \"size\": 24}, \"height\": 500, \"legend\": {\"bgcolor\": \"rgba(0,0,0,0)\", \"orientation\": \"v\", \"x\": 0, \"y\": 1.0}, \"margin\": {\"b\": 100, \"l\": 100, \"r\": 10, \"t\": 10}, \"showlegend\": false, \"width\": 500, \"xaxis\": {\"color\": \"black\", \"linewidth\": 3, \"mirror\": \"allticks\", \"showgrid\": false, \"showline\": true, \"ticklen\": 10, \"ticks\": \"inside\", \"tickwidth\": 3, \"title\": {\"text\": \"c-1\"}, \"zeroline\": false}, \"yaxis\": {\"color\": \"black\", \"linewidth\": 3, \"mirror\": \"allticks\", \"showgrid\": false, \"showline\": true, \"ticklen\": 10, \"ticks\": \"inside\", \"tickwidth\": 3, \"title\": {\"text\": \"c-2\"}, \"zeroline\": false}},\n",
       "                        {\"responsive\": true, \"plotlyServerURL\": \"https://plot.ly\", \"linkText\": \"Export to plot.ly\", \"showLink\": false}\n",
       "                    ).then(function(){\n",
       "                            \n",
       "var gd = document.getElementById('8e5f2f16-0af4-4f83-95e2-60e832c3ec90');\n",
       "var x = new MutationObserver(function (mutations, observer) {{\n",
       "        var display = window.getComputedStyle(gd).display;\n",
       "        if (!display || display === 'none') {{\n",
       "            console.log([gd, 'removed!']);\n",
       "            Plotly.purge(gd);\n",
       "            observer.disconnect();\n",
       "        }}\n",
       "}});\n",
       "\n",
       "// Listen for the removal of the full notebook cells\n",
       "var notebookContainer = gd.closest('#notebook-container');\n",
       "if (notebookContainer) {{\n",
       "    x.observe(notebookContainer, {childList: true});\n",
       "}}\n",
       "\n",
       "// Listen for the clearing of the current output cell\n",
       "var outputEl = gd.closest('.output');\n",
       "if (outputEl) {{\n",
       "    x.observe(outputEl, {childList: true});\n",
       "}}\n",
       "\n",
       "                        })\n",
       "                };\n",
       "                });\n",
       "            </script>\n",
       "        </div>"
      ]
     },
     "metadata": {},
     "output_type": "display_data"
    }
   ],
   "source": [
    "trace0 = go.Scatter(\n",
    "        x=points[:, 0],\n",
    "        y=points[:, 1],\n",
    "        mode='markers',\n",
    "        opacity=0.5,\n",
    "        marker=dict(\n",
    "            size=10,\n",
    "            color='black',\n",
    "        ),\n",
    "        line=dict(color='black', width=2, dash='dash'),\n",
    "    )\n",
    "trace1 = go.Scatter(\n",
    "        x=pareto_points[:, 0],\n",
    "        y=pareto_points[:, 1],\n",
    "        mode='markers',\n",
    "        opacity=1,\n",
    "        marker=dict(\n",
    "            size=10,\n",
    "            color='red',\n",
    "        ),\n",
    "        line=dict(color='black', width=2, dash='dash'),\n",
    "    )\n",
    "data = [trace0, trace1]\n",
    "layout = go.Layout()\n",
    "layout.update(glob_layout)\n",
    "layout[\"xaxis\"].update({'title': 'c-1'})\n",
    "layout[\"yaxis\"].update({'title': 'c-2'})\n",
    "layout.legend.update(x=0, y=1.0,  bgcolor='rgba(0,0,0,0)')\n",
    "layout.update(xaxis=dict(), yaxis=dict())\n",
    "layout.update(height=500, width=500, showlegend=False)\n",
    "\n",
    "fig = dict(data=data, layout=layout)\n",
    "iplot(fig)"
   ]
  },
  {
   "cell_type": "code",
   "execution_count": null,
   "metadata": {},
   "outputs": [],
   "source": []
  }
 ],
 "metadata": {
  "kernelspec": {
   "display_name": "Python [conda env:.conda-mols_keras] *",
   "language": "python",
   "name": "conda-env-.conda-mols_keras-py"
  },
  "language_info": {
   "codemirror_mode": {
    "name": "ipython",
    "version": 2
   },
   "file_extension": ".py",
   "mimetype": "text/x-python",
   "name": "python",
   "nbconvert_exporter": "python",
   "pygments_lexer": "ipython2",
   "version": "2.7.15"
  },
  "toc": {
   "base_numbering": 1,
   "nav_menu": {},
   "number_sections": true,
   "sideBar": true,
   "skip_h1_title": false,
   "title_cell": "Table of Contents",
   "title_sidebar": "Contents",
   "toc_cell": false,
   "toc_position": {},
   "toc_section_display": true,
   "toc_window_display": false
  }
 },
 "nbformat": 4,
 "nbformat_minor": 2
}
